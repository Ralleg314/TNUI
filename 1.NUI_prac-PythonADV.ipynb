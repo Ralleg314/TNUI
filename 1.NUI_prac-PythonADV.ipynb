{
 "cells": [
  {
   "cell_type": "markdown",
   "metadata": {},
   "source": [
    "# Pràctiques de Nous Usos de la Informàtica"
   ]
  },
  {
   "cell_type": "markdown",
   "metadata": {},
   "source": [
    "#### Requeriments per fer les pràctiques:"
   ]
  },
  {
   "cell_type": "markdown",
   "metadata": {},
   "source": [
    "1) Una forma simple d'instal·lar tots els paquets necessaris és instal·lar la plataforma de distribució de Python Anaconda: https://store.continuum.io/\n",
    "Aquesta plataforma instal·la automàticament un conjunt d'eines (matplotlib, NumPy, SciPy, NetworkX, iPython, pandas, etc.) que constitueixen l'entorn de computació científica necessari per desenvolupar les pràctiques d'aquesta assignatura. L'altra opció és instal·lar independentment els paquets matplotlib, NumPy, SciPy, NetworkX, iPython i pandas.\n",
    "\n",
    "2) Les pràctiques es poden lliurar en forma de \"notebook\" de iPython que contingui tot el programari desenvolupat per l'alumne o simplement en un mòdul de Python que contingui tot el programari necessari per executar la pràctica. Informació sobre iPython: http://ipython.org/"
   ]
  },
  {
   "cell_type": "markdown",
   "metadata": {},
   "source": [
    "## Pràctica 1: Programació Avançada de Python."
   ]
  },
  {
   "cell_type": "markdown",
   "metadata": {},
   "source": [
    "### Processament avançat de llistes i diccionaris."
   ]
  },
  {
   "cell_type": "markdown",
   "metadata": {},
   "source": [
    "<b>Exercici 1:</b>  Escriu els següents conjunts S, V i M usant \"list comprehensions\":\n",
    "\n",
    "S = {x² : x in {0 ... 9}}"
   ]
  },
  {
   "cell_type": "code",
   "execution_count": 33,
   "metadata": {
    "collapsed": false
   },
   "outputs": [
    {
     "data": {
      "text/plain": [
       "[0, 1, 4, 9, 16, 25, 36, 49, 64, 81]"
      ]
     },
     "execution_count": 33,
     "metadata": {},
     "output_type": "execute_result"
    }
   ],
   "source": [
    "S=[i**2 for i in range(10)]\n",
    "S"
   ]
  },
  {
   "cell_type": "markdown",
   "metadata": {},
   "source": [
    "V = (1, 2, 4, 8, ..., 2¹²)"
   ]
  },
  {
   "cell_type": "code",
   "execution_count": 34,
   "metadata": {
    "collapsed": false
   },
   "outputs": [
    {
     "data": {
      "text/plain": [
       "[1, 2, 4, 8, 16, 32, 64, 128, 256, 512, 1024, 2048, 4096]"
      ]
     },
     "execution_count": 34,
     "metadata": {},
     "output_type": "execute_result"
    }
   ],
   "source": [
    "V=[2**j for j in range(13)]\n",
    "V"
   ]
  },
  {
   "cell_type": "markdown",
   "metadata": {},
   "source": [
    "M = {x | x $\\in$ S i x parell}"
   ]
  },
  {
   "cell_type": "code",
   "execution_count": 35,
   "metadata": {
    "collapsed": false
   },
   "outputs": [
    {
     "data": {
      "text/plain": [
       "[0, 4, 16, 36, 64]"
      ]
     },
     "execution_count": 35,
     "metadata": {},
     "output_type": "execute_result"
    }
   ],
   "source": [
    "M=[k for k in S if k%2==0]\n",
    "M"
   ]
  },
  {
   "cell_type": "markdown",
   "metadata": {},
   "source": [
    "<b>Exercici 2</b>: Calcula, usant \"list comprehensions\", els quadrats dels nombres entre 1 i 10 que són divisibles per 2."
   ]
  },
  {
   "cell_type": "code",
   "execution_count": 36,
   "metadata": {
    "collapsed": false
   },
   "outputs": [
    {
     "data": {
      "text/plain": [
       "[0, 4, 16, 36, 64, 100]"
      ]
     },
     "execution_count": 36,
     "metadata": {},
     "output_type": "execute_result"
    }
   ],
   "source": [
    "[i**2 for i in range(11) if i%2==0]"
   ]
  },
  {
   "cell_type": "markdown",
   "metadata": {},
   "source": [
    "<b>Exercici 3</b>: Donada una llista L amb 50 nombres enters aleatoris entre 1 i 100, crea una nova llista el primer element de la qual és el nombre de 1's que hi ha a L, el segon element és el nombre de 2's que hi ha a L, etc."
   ]
  },
  {
   "cell_type": "code",
   "execution_count": 88,
   "metadata": {
    "collapsed": false
   },
   "outputs": [
    {
     "name": "stdout",
     "output_type": "stream",
     "text": [
      "[31, 92, 18, 2, 77, 12, 50, 66, 8, 97, 78, 12, 79, 75, 30, 25, 83, 14, 83, 98, 98, 57, 68, 13, 52, 54, 81, 86, 66, 12, 83, 40, 31, 55, 20, 75, 60, 27, 18, 57, 69, 31, 19, 31, 33, 82, 61, 74, 61, 47]\n",
      "[15, 10, 11, 5, 10, 10, 12, 13, 7]\n"
     ]
    }
   ],
   "source": [
    "import random as ran\n",
    "L=[ran.randint(1,99) for i in range(50)]\n",
    "print L\n",
    "M=[sum([(j%10==i)+(j/10==i) for j in L]) for i in range(1,10)]\n",
    "print M"
   ]
  },
  {
   "cell_type": "markdown",
   "metadata": {},
   "source": [
    "<b>Exercici 4:</b> Donat el següent diccionari, obteniu les pel·lícules que ha votat el crític “Toby” i la seva votació. Poseu el resultat en una llista, on apareix-hi el nom de la pel·lícula i la votació corresponent. "
   ]
  },
  {
   "cell_type": "code",
   "execution_count": 90,
   "metadata": {
    "collapsed": true
   },
   "outputs": [],
   "source": [
    "critics={'Lisa Rose': {'Lady in the Water': 2.5, 'Snakes on a Plane': 3.5,\n",
    " 'Just My Luck': 3.0, 'Superman Returns': 3.5, 'You, Me and Dupree': 2.5,\n",
    " 'The Night Listener': 3.0}, 'Gene Seymour': {'Lady in the Water': 3.0, 'Snakes on a Plane': 3.5,\n",
    " 'Just My Luck': 1.5, 'Superman Returns': 5.0, 'The Night Listener': 3.0,\n",
    " 'You, Me and Dupree': 3.5}, 'Michael Phillips': {'Lady in the Water': 2.5, 'Snakes on a Plane': 3.0,\n",
    " 'Superman Returns': 3.5, 'The Night Listener': 4.0}, 'Claudia Puig': {'Snakes on a Plane': 3.5, 'Just My Luck': 3.0,\n",
    " 'The Night Listener': 4.5, 'Superman Returns': 4.0,  'You, Me and Dupree': 2.5}, 'Mick LaSalle': {'Lady in the Water': 3.0, 'Snakes on a Plane': 4.0,\n",
    " 'Just My Luck': 2.0, 'Superman Returns': 3.0, 'The Night Listener': 3.0, \n",
    " 'You, Me and Dupree': 2.0}, 'Jack Matthews': {'Lady in the Water': 3.0, 'Snakes on a Plane': 4.0,\n",
    " 'The Night Listener': 3.0, 'Superman Returns': 5.0, 'You, Me and Dupree': 3.5},\n",
    "'Toby': {'Snakes on a Plane':4.5,'You, Me and Dupree':1.0,'Superman Returns':4.0}}"
   ]
  },
  {
   "cell_type": "code",
   "execution_count": 141,
   "metadata": {
    "collapsed": false
   },
   "outputs": [
    {
     "name": "stdout",
     "output_type": "stream",
     "text": [
      "[('Snakes on a Plane', 4.5), ('Superman Returns', 4.0), ('You, Me and Dupree', 1.0)]\n"
     ]
    }
   ],
   "source": [
    "print [(k,v) for k,v in critics[\"Toby\"].items()]"
   ]
  },
  {
   "cell_type": "markdown",
   "metadata": {},
   "source": [
    "<b>Exercici 5.</b> Obteniu la el nom de la pel·lícula que tingui la major puntuació del crític “Gene\n",
    "Seymour”."
   ]
  },
  {
   "cell_type": "code",
   "execution_count": 150,
   "metadata": {
    "collapsed": false
   },
   "outputs": [
    {
     "data": {
      "text/plain": [
       "('Superman Returns', 5.0)"
      ]
     },
     "execution_count": 150,
     "metadata": {},
     "output_type": "execute_result"
    }
   ],
   "source": [
    "L=[(k,v) for k,v in critics[\"Gene Seymour\"].items()]\n",
    "max(L, key=lambda x:x[1])"
   ]
  },
  {
   "cell_type": "markdown",
   "metadata": {},
   "source": [
    "<b>Exercici 6.</b> Obteniu el crític que ha donat la puntuació més elevada a la pel·lícula “Superman\n",
    "Returns”."
   ]
  },
  {
   "cell_type": "code",
   "execution_count": 162,
   "metadata": {
    "collapsed": false
   },
   "outputs": [
    {
     "name": "stdout",
     "output_type": "stream",
     "text": [
      "('Jack Matthews', 5.0)\n"
     ]
    }
   ],
   "source": [
    "M=[(k,v[\"Superman Returns\"])for k,v in critics.items()]\n",
    "print max(M,key=lambda x:x[1])"
   ]
  },
  {
   "cell_type": "markdown",
   "metadata": {},
   "source": [
    "<b>Exercici 7</b>. Obteniu el nom del Crític que ha donat la puntuació mitja més elevada. Quina és aquesta puntuació mitja?"
   ]
  },
  {
   "cell_type": "code",
   "execution_count": 179,
   "metadata": {
    "collapsed": false
   },
   "outputs": [
    {
     "name": "stdout",
     "output_type": "stream",
     "text": [
      "('Jack Matthews', 3.7)\n"
     ]
    }
   ],
   "source": [
    "def valoracions(x):\n",
    "    return [v1 for k1,v1 in critics[x].items()]\n",
    "\n",
    "N=[(k,sum(valoracions(k))/len(valoracions(k)))for k,v in critics.items()]\n",
    "\n",
    "print max(N,key=lambda x:x[1])"
   ]
  },
  {
   "cell_type": "markdown",
   "metadata": {},
   "source": [
    "<b>Exercici 8:</b> Normalitzeu les puntuacions de cada crític per la seva mitja."
   ]
  },
  {
   "cell_type": "code",
   "execution_count": 195,
   "metadata": {
    "collapsed": false
   },
   "outputs": [
    {
     "name": "stdout",
     "output_type": "stream",
     "text": [
      "{'Jack Matthews': 3.7, 'Mick LaSalle': 2.8333333333333335, 'Claudia Puig': 3.5, 'Lisa Rose': 3.0, 'Toby': 3.1666666666666665, 'Gene Seymour': 3.25, 'Michael Phillips': 3.25}\n"
     ]
    }
   ],
   "source": [
    "N={k:sum(valoracions(k))/len(valoracions(k))for k,v in critics.items()}\n",
    "print N"
   ]
  },
  {
   "cell_type": "code",
   "execution_count": 199,
   "metadata": {
    "collapsed": false
   },
   "outputs": [
    {
     "name": "stdout",
     "output_type": "stream",
     "text": [
      "{'Jack Matthews': {'Lady in the Water': 0.8108108108108107, 'Snakes on a Plane': 1.081081081081081, 'The Night Listener': 0.8108108108108107, 'Superman Returns': 1.3513513513513513, 'You, Me and Dupree': 0.9459459459459459}, 'Mick LaSalle': {'Lady in the Water': 1.0588235294117647, 'Snakes on a Plane': 1.4117647058823528, 'Just My Luck': 0.7058823529411764, 'Superman Returns': 1.0588235294117647, 'The Night Listener': 1.0588235294117647, 'You, Me and Dupree': 0.7058823529411764}, 'Claudia Puig': {'Snakes on a Plane': 1.0, 'Just My Luck': 0.8571428571428571, 'The Night Listener': 1.2857142857142858, 'Superman Returns': 1.1428571428571428, 'You, Me and Dupree': 0.7142857142857143}, 'Lisa Rose': {'Lady in the Water': 0.8333333333333334, 'Snakes on a Plane': 1.1666666666666667, 'Just My Luck': 1.0, 'Superman Returns': 1.1666666666666667, 'You, Me and Dupree': 0.8333333333333334, 'The Night Listener': 1.0}, 'Toby': {'Snakes on a Plane': 1.4210526315789473, 'Superman Returns': 1.2631578947368423, 'You, Me and Dupree': 0.31578947368421056}, 'Gene Seymour': {'Lady in the Water': 0.9230769230769231, 'Snakes on a Plane': 1.0769230769230769, 'Just My Luck': 0.46153846153846156, 'Superman Returns': 1.5384615384615385, 'The Night Listener': 0.9230769230769231, 'You, Me and Dupree': 1.0769230769230769}, 'Michael Phillips': {'Lady in the Water': 0.7692307692307693, 'Snakes on a Plane': 0.9230769230769231, 'Superman Returns': 1.0769230769230769, 'The Night Listener': 1.2307692307692308}}\n"
     ]
    }
   ],
   "source": [
    "print {autor: {p:v/N[autor] for p,v in contingut.items()}for autor, contingut in critics.items()}"
   ]
  },
  {
   "cell_type": "code",
   "execution_count": null,
   "metadata": {
    "collapsed": true
   },
   "outputs": [],
   "source": []
  }
 ],
 "metadata": {
  "kernelspec": {
   "display_name": "Python [Root]",
   "language": "python",
   "name": "Python [Root]"
  },
  "language_info": {
   "codemirror_mode": {
    "name": "ipython",
    "version": 2
   },
   "file_extension": ".py",
   "mimetype": "text/x-python",
   "name": "python",
   "nbconvert_exporter": "python",
   "pygments_lexer": "ipython2",
   "version": "2.7.12"
  },
  "widgets": {
   "state": {},
   "version": "1.1.1"
  }
 },
 "nbformat": 4,
 "nbformat_minor": 0
}
