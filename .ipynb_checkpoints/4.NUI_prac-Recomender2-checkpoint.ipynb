{
 "cells": [
  {
   "cell_type": "markdown",
   "metadata": {},
   "source": [
    "# Pràctiques de Nous Usos de la Informàtica"
   ]
  },
  {
   "cell_type": "markdown",
   "metadata": {},
   "source": [
    "**Nom de les persones del grup:** Mr X & Ms. Z"
   ]
  },
  {
   "cell_type": "markdown",
   "metadata": {},
   "source": [
    "# Pràctica 2. Recomanadors"
   ]
  },
  {
   "cell_type": "markdown",
   "metadata": {},
   "source": [
    "# Construcció d'un recomanador."
   ]
  },
  {
   "cell_type": "code",
   "execution_count": 1,
   "metadata": {
    "collapsed": false
   },
   "outputs": [],
   "source": [
    "# lectura de dades\n",
    "\n",
    "import pandas as pd\n",
    "import numpy as np\n",
    "\n",
    "unames = ['user_id', 'gender', 'age', 'occupation', 'zip']\n",
    "users = pd.read_table('ml-1m/users.dat', sep='::', header=None, names=unames, engine='python')\n",
    "rnames = ['user_id', 'movie_id', 'rating', 'timestamp']\n",
    "ratings = pd.read_table('ml-1m/ratings.dat', sep='::', header=None, names=rnames, engine='python')\n",
    "mnames = ['movie_id', 'title', 'genres']\n",
    "movies = pd.read_table('ml-1m/movies.dat', sep='::', header=None, names=mnames, engine='python')\n",
    "\n",
    "data = pd.merge(pd.merge(ratings, users), movies)\n",
    "data = data[data.user_id < 100]\n",
    "data = data[data.movie_id < 100]"
   ]
  },
  {
   "cell_type": "markdown",
   "metadata": {},
   "source": [
    "**Alerta**: Les implementacions dels exercicis 6, 7 i 8 poden tardar molt en executar-se, considera fer-ho en un subset de les dades originals. En la 1a cel·la:\n",
    "```\n",
    "    data = data[data.user_id < 100]\n",
    "    data = data[data.movie_id < 100]\n",
    "```\n",
    "El codi anterior limitaria les dades a 100 usuaris i 100 películes. Recorda re-executar les cel·les.\n",
    "\n",
    "Com a guia, una implementació que usi N usuaris i películes, per l'exercici 6, ot arribar a trigar:\n",
    "\n",
    "* N=100, 5 segons a 60 segons\n",
    "* N=1000, 15 minuts a 1 hora\n",
    "* N=10000, 20 hores a 60 hores\n",
    "\n",
    "segons la implementació utilitzada"
   ]
  },
  {
   "cell_type": "markdown",
   "metadata": {},
   "source": [
    "El següent codi, donat el conjunt de dades, construeix un conjunt d'entrenament i un conjunt  de test:"
   ]
  },
  {
   "cell_type": "code",
   "execution_count": 2,
   "metadata": {
    "collapsed": false
   },
   "outputs": [
    {
     "name": "stdout",
     "output_type": "stream",
     "text": [
      "(319, 11)\n",
      "(135, 11)\n"
     ]
    }
   ],
   "source": [
    "# generem subconjunts de training i test\n",
    "def assign_to_set(df):\n",
    "    sampled_ids = np.random.choice(df.index,\n",
    "                                   size=np.int64(np.ceil(df.index.size * 0.2)),\n",
    "                                   replace=False)\n",
    "    df.ix[sampled_ids, 'for_testing'] = True\n",
    "    return df\n",
    "\n",
    "data['for_testing'] = False\n",
    "grouped = data.groupby('user_id', group_keys=False).apply(assign_to_set)\n",
    "movielens_train = data[grouped.for_testing == False]\n",
    "movielens_test = data[grouped.for_testing == True]\n",
    "print movielens_train.shape\n",
    "print movielens_test.shape"
   ]
  },
  {
   "cell_type": "markdown",
   "metadata": {},
   "source": [
    "La següent funció `evaluate(estimate)`, donat un conjunt de dades d'entrenament i un conjunt de dades de test ens avalua la precisió d'un sistema de recomanació que li passem per paràmetre. Per a cadascun dels elements del conjunt de test haurem de pronosticar el seu valor i comparar-lo amb el valor real que l'usuari li ha asignat. La mesura que utilizarem per avaluar el sistema és la root-mean-square error (rsme)"
   ]
  },
  {
   "cell_type": "code",
   "execution_count": 3,
   "metadata": {
    "collapsed": false
   },
   "outputs": [],
   "source": [
    "# definim una funció per avaluar el resultat de la recomanació.\n",
    "\n",
    "def compute_rmse(y_pred, y_true):\n",
    "    return np.sqrt(np.mean(np.power(y_pred - y_true, 2)))\n",
    "\n",
    "def evaluate(estimate,test=movielens_test):\n",
    "    ids_to_estimate = zip(test['user_id'], test['movie_id'])\n",
    "    estimated = np.array([estimate(u,i) for (u,i) in ids_to_estimate])\n",
    "    real = test.rating.values\n",
    "    nans = np.isnan(estimated)\n",
    "    return compute_rmse(estimated[~nans], real[~nans])"
   ]
  },
  {
   "cell_type": "markdown",
   "metadata": {},
   "source": [
    "### EXERCICI 4\n",
    "\n",
    "+ Construeix dues funcions, `dist_euclid(x,y)` i `coef_pearson(x,y)`, que implementin la distància Euclidiana i el coeficient de correlació de Pearson entre dos vectors usant funcions de pandas. \n",
    "\n",
    "+ Escriu les funcions que calculin la semblança entre dos series d'un DataFrame de Pandas. S'utiltizaran per calcular les similituds entre usuaris o entre items:\n",
    "\n",
    "    + ``def sim_euclid (data_frame, row1, row2)``\n",
    "    Calcula els vectors representatius de cada fila, C1 i C2, amb les puntuacions de les columnes que estan presents en ambdós files. En el cas dels usuaris (files), això implica trobar les películes (columnes) que han puntuat tots dos.<br />Si no hi ha puntuacions en comú, retornar 0. En cas contrari, retornar ``1/(1+dist_euclid(C1, C2))``\n",
    "\n",
    "    + ``def sim_pearson (data_frame, row1, row2)``\n",
    "    Calcular els vectors representatius de cada fila, C1 i C2, amb les puntuacions de les columnes que estan presents en ambdós files.<br />Si no hi ha puntuacions en comú, retornar 0. Retornar ``coef_pearson(C1,C2)``\n",
    "    "
   ]
  },
  {
   "cell_type": "code",
   "execution_count": 84,
   "metadata": {
    "collapsed": false
   },
   "outputs": [],
   "source": [
    "import math\n",
    "import numpy as np\n",
    "import pandas as pd\n",
    "\n",
    "# Returns the euclidean distance of two vectors\n",
    "def dist_euclid(x, y):\n",
    "    return np.linalg.norm(x-y)\n",
    "\n",
    "# Returns the Pearson correlation of two vectors \n",
    "def coef_pearson(x, y):\n",
    "    return np.corrcoef(x,y)\n",
    "\n",
    "# Returns a distance-based similarity score for person1 and person2 based on euclidean distance\n",
    "def sim_euclid(data_frame, row1, row2):\n",
    "    C1=data_frame.loc[[row1]].values\n",
    "    C2=data_frame.loc[[row2]].values\n",
    "    #Takes the positions in where C1 or C2 are NaN\n",
    "    mask = ~np.isnan(C1) & ~np.isnan(C2)\n",
    "    #Remves said positions\n",
    "    C1 = C1[mask]\n",
    "    C2 = C2[mask]\n",
    "    if C1.size!=0:\n",
    "        return 1/(1+dist_euclid(C1,C2))\n",
    "    else:\n",
    "        return 0\n",
    "\n",
    "# Returns a distance-based similarity score for person1 and person2 based on pearson distance\n",
    "def sim_pearson(data_frame, row1, row2):\n",
    "    C1=data_frame.loc[[row1]].values\n",
    "    C2=data_frame.loc[[row2]].values\n",
    "    #Takes the positions in where C1 or C2 are NaN\n",
    "    mask = ~np.isnan(C1) & ~np.isnan(C2)\n",
    "    #Remves said positions\n",
    "    C1 = C1[mask]\n",
    "    C2 = C2[mask]\n",
    "    if C1.size!=0:\n",
    "        return coef_pearson(C1,C2)[0][1]#coef_pearson returns a matrix, so we want the position that corresponds to its relation\n",
    "    else:\n",
    "        return 0"
   ]
  },
  {
   "cell_type": "markdown",
   "metadata": {},
   "source": [
    "Tests de les funcions, pots realitzar modificacions prèvies a les taules (per exemple, agrupar o pivotar) per accelerar el procés"
   ]
  },
  {
   "cell_type": "code",
   "execution_count": 85,
   "metadata": {
    "collapsed": false
   },
   "outputs": [
    {
     "name": "stdout",
     "output_type": "stream",
     "text": [
      "0\n",
      "0\n"
     ]
    }
   ],
   "source": [
    "# Execute functions\n",
    "data_sort=data.pivot(index='user_id', columns='title', values='rating')\n",
    "print sim_euclid(data_sort, 1, 2)\n",
    "print sim_pearson(data_sort, 1, 2)"
   ]
  },
  {
   "cell_type": "markdown",
   "metadata": {},
   "source": [
    "### EXERCICI 5\n",
    "\n",
    "+ Feu dues funcions, ``get_best_euclid(data_frame, user, n)`` i ``get_best_pearson(data_frame, user, n)``, que retornin els ``n`` usuaris més semblants segons aquestes dues mesures de similitud."
   ]
  },
  {
   "cell_type": "code",
   "execution_count": 129,
   "metadata": {
    "collapsed": false
   },
   "outputs": [],
   "source": [
    "# return the N most similar users to a given user based on euclidean distance\n",
    "def get_best_euclid(data_frame, user, n):\n",
    "    similar=[]\n",
    "    #To avoid having to test everytime if the current case matches the user one, we remove its row from de data frame \n",
    "    data_iter=data_frame.drop([user])\n",
    "    #Index and user_id could not match, so we use an iterator instead of a \"regular\" for loop\n",
    "    for i, row in data_iter.iterrows():\n",
    "        #We store a tuple made of current distance and user_id\n",
    "        similar.append((sim_euclid(data_frame,user,i),i))\n",
    "    #We want the top ones, so we sort them from greater to smaller\n",
    "    similar.sort(reverse=True)\n",
    "    #We take the greater ones (just the user_id)\n",
    "    users=[i[1] for i in similar[:n]]\n",
    "    return users\n",
    "\n",
    "# return the N most similar users to a given user based on pearson correlation\n",
    "def get_best_pearson(data_frame, user, n):\n",
    "    #Same idea as before\n",
    "    similar=[]\n",
    "    data_iter=data_frame.drop([user])\n",
    "    for i, row in data_iter.iterrows():\n",
    "        sp=sim_pearson(data_frame,user,i)\n",
    "        #Pearson coefficient can return NaN in some cases so, if it's NaN, we will use euclidian distance\n",
    "        if not math.isnan(sp):\n",
    "            similar.append((sp,i))\n",
    "        else:\n",
    "            similar.append((sim_euclid(data_frame,user,i),i))\n",
    "    similar.sort(reverse=True)\n",
    "    users=[i[1] for i in similar[:n]]\n",
    "    return users"
   ]
  },
  {
   "cell_type": "code",
   "execution_count": 130,
   "metadata": {
    "collapsed": false
   },
   "outputs": [
    {
     "name": "stdout",
     "output_type": "stream",
     "text": [
      "[76, 65, 56, 51, 49]\n",
      "[76, 65, 56, 51, 49]\n"
     ]
    }
   ],
   "source": [
    "# Execute functions\n",
    "# Aquestes funcions poden trigar a executar-se; feu proves primer amb una part petita de la base de dades.\n",
    "\n",
    "#We don't want the program to be doing this pivot every time, so we will do it outside the function\n",
    "data_sort=data.pivot(index='user_id', columns='title', values='rating')\n",
    "print get_best_euclid(data_sort, 1, 5)\n",
    "print get_best_pearson(data_sort, 1, 5)"
   ]
  },
  {
   "cell_type": "markdown",
   "metadata": {},
   "source": [
    "### EXERCICI 6\n",
    "\n",
    "En l'exercici 6 i 7 es desenvoluparà un sistema de recomanació basat en usuaris i en ítems, respectivament.\n",
    "\n",
    "El codi donat, que es basa en 3 classes, és la recomenada per fer-ho òptim i reaprofitar el màxim de codi, però s'acceptaran solucions que no la segueixin, sempre hi quan respectin el mètode \"estimate\" explicat més abaix i funcionin de forma correcte.\n",
    "\n",
    "#### `CollaborativeFiltering`\n",
    "\n",
    "Una classe base, comuna en els 2 recomanadors, que implementarà:\n",
    "  \n",
    "  * `__init__`: Rep com a paràmetres el dataframe (que constarà de `user_id`, `movie_id` i `rating`), la funció de semblança (Euclidiana o Pearson) que volem usar i un paràmetre `M` que indica el tamany que tindrà la matriu de similituds.\n",
    "  \n",
    "  * `precompute`: Generar per cada estimació la semblança entre 2 usuaris o items seria molt costós i faria l'algorisme molt lent, per tant, aquesta funció omplirà la taula MxM (on M es el número de usuaris o items, segons el recomanador) amb el coeficient de semblança.\n",
    "      * Nota: La taula es un DataFrame de Pandas, per tant accedirem als element fent servir l'indexat de Pandas (que correspon al id del user/movie, i no a la posició 0...i)\n",
    "  \n",
    "  * `estimate`: s'encarrega de donar la predicció, en aquest cas donat un usuari i una pel·lícula estimar el seu rating.\n",
    "    + Nota 1: Si un `user_id` o `movie_id` no es troba en el DataFrame, cal retornar \"np.NAN\"\n",
    "    + Nota 2: En el recomenador d'usuaris, s'ha d'evitar comparar `user_id` a ell mateix. De la mateixa forma, en el d'items evitarem comparar un `movie_id` amb sí mateix.\n",
    "\n",
    "#### `UserRecomender`\n",
    "\n",
    "Recomanador basat en usuaris que hereta de `CollaborativeFiltering`. Implementarà:\n",
    "\n",
    "  * `__init__`: Pot realitzar transformacions al DataFrame\n",
    "  \n",
    "#### `ItemRecomender`\n",
    "\n",
    "Recomanador basat en items que hereta de `CollaborativeFiltering`. Implementarà:\n",
    "\n",
    "  * `__init__`: Pot realitzar transformacions al DataFrame\n",
    "    "
   ]
  },
  {
   "cell_type": "code",
   "execution_count": 173,
   "metadata": {
    "collapsed": false
   },
   "outputs": [],
   "source": [
    "class CollaborativeFiltering(object):\n",
    "    \"\"\" Collaborative filtering using a custom sim(u,u'). \"\"\"\n",
    "    \n",
    "    def __init__(self, data, M, similarity=sim_pearson):\n",
    "        \"\"\" Constructor \"\"\"\n",
    "        self.sim_method = similarity # Gets recommendations for a person by using a weighted average\n",
    "        self.df = data \n",
    "        self.sim = pd.DataFrame(0, index=M, columns=M)\n",
    "        \n",
    "    def precompute(self):\n",
    "        \"\"\"Prepare data structures for estimation. Compute similarity matrix self.sim\"\"\"\n",
    "        for i,row1 in self.df.iterrows():\n",
    "            self.sim.loc[i,i]=1\n",
    "            for j,row2 in self.df[i:].iterrows():\n",
    "                s=self.sim_method(self.df,i,j)\n",
    "                if not math.isnan(s):\n",
    "                    self.sim.loc[i,j]=s\n",
    "                    self.sim.loc[j,i]=s\n",
    "                else:\n",
    "                    s=sim_euclid(self.df,i,j)\n",
    "                    self.sim.loc[i,j]=s\n",
    "                    self.sim.loc[j,i]=s\n",
    "        print self.sim\n",
    "    \n",
    "    def estimate(self, row, col):\n",
    "        \"\"\" Given an row (user_id in exercise 6, movie_id in 7) and a column (movie_id in exercise 6, user_id in 7) \n",
    "            returns the estimated rating \"\"\"\n",
    "        return self.sim[row][col]"
   ]
  },
  {
   "cell_type": "code",
   "execution_count": 174,
   "metadata": {
    "collapsed": false
   },
   "outputs": [],
   "source": [
    "class UserRecomender(CollaborativeFiltering):\n",
    "    \"\"\" Recomender using Collaborative filtering with a User similarity (u,u'). \"\"\"\n",
    "    \n",
    "    def __init__(self, data_train, similarity=sim_pearson):\n",
    "        \"\"\" Constructor \"\"\"\n",
    "        \n",
    "        # You should do any transformation to data_train (grouping/pivot/...) here, if needed\n",
    "        transformed_data = data_train.pivot(index='user_id', columns='title', values='rating')\n",
    "        \n",
    "        super(UserRecomender, self).__init__(transformed_data, data_train.user_id.unique(), similarity)\n",
    "\n",
    "                \n",
    "    def estimate(self, user_id, movie_id):\n",
    "        \"\"\" Given an user_id and a movie_id returns the estimated rating for such movie \"\"\"\n",
    "        return super(UserRecomender, self).estimate(user_id, movie_id)\n",
    "        "
   ]
  },
  {
   "cell_type": "code",
   "execution_count": 175,
   "metadata": {
    "collapsed": false
   },
   "outputs": [
    {
     "name": "stdout",
     "output_type": "stream",
     "text": [
      "          6         10        26        38        45        53        75  \\\n",
      "6   1.000000 -1.000000  0.309017 -0.866025  0.333333 -1.000000  0.500000   \n",
      "10 -1.000000  1.000000  0.309017  1.000000  0.500000  1.000000  0.500000   \n",
      "26  0.309017  0.309017  1.000000 -0.500000  0.324443  0.693375  0.500000   \n",
      "38 -0.866025  1.000000 -0.500000  1.000000  0.000000  0.000000  0.500000   \n",
      "45  0.333333  0.500000  0.324443  0.000000  1.000000  0.000000  1.000000   \n",
      "53 -1.000000  1.000000  0.693375  0.000000  0.000000  1.000000  0.000000   \n",
      "75  0.500000  0.500000  0.500000  0.500000  1.000000  0.000000  1.000000   \n",
      "80  1.000000  0.000000  0.500000 -1.000000  0.500000  0.250000  0.000000   \n",
      "93  0.200000  0.250000  0.333333  0.333333  0.333333  1.000000  0.000000   \n",
      "1   0.500000  1.000000  0.333333  1.000000  0.000000  0.000000  0.000000   \n",
      "8   0.000000  0.000000  0.500000  0.500000  0.000000  0.414214  0.000000   \n",
      "9   0.000000  0.000000 -1.000000  1.000000  0.000000  0.414214  0.000000   \n",
      "18  1.000000  0.240253  0.000000 -0.866025  0.200000  0.210897 -1.000000   \n",
      "19  0.500000  1.000000  0.000000  1.000000  0.000000  1.000000  0.000000   \n",
      "28  0.500000  0.333333  0.000000  0.000000  0.500000  0.333333  0.000000   \n",
      "34  0.414214  1.000000  0.000000  0.000000  0.000000  1.000000  0.333333   \n",
      "36  0.500000  1.000000  0.000000  0.000000  0.000000 -0.500000  0.333333   \n",
      "44  0.500000  0.500000  0.333333  0.000000  0.000000  0.000000  0.500000   \n",
      "49  0.500000  1.000000 -1.000000  0.000000  0.000000  0.000000  0.000000   \n",
      "51  0.500000  1.000000  0.333333  0.000000  0.000000  0.000000  0.000000   \n",
      "56  0.500000  1.000000  0.333333  1.000000  0.000000  0.000000  0.000000   \n",
      "60  1.000000  0.500000  0.500000  0.500000  0.000000  0.000000  0.000000   \n",
      "68  0.414214  0.333333  1.000000  0.309017  0.000000  0.000000  0.000000   \n",
      "73  0.500000  0.333333  0.500000  1.000000  0.250000  0.000000  0.000000   \n",
      "76  0.500000  1.000000  0.333333  1.000000  0.000000  0.500000  0.000000   \n",
      "90  0.500000  0.333333  0.500000  0.333333  0.333333  0.333333  0.000000   \n",
      "92  1.000000  0.240253  0.500000  0.816497  1.000000  0.522233  0.000000   \n",
      "96  1.000000  0.500000  0.500000  0.500000  0.000000  0.000000  0.000000   \n",
      "99  0.500000  0.333333  1.000000  0.333333  0.333333  0.309017  0.000000   \n",
      "2   0.000000  0.000000  0.333333  0.000000  0.000000  0.000000  0.000000   \n",
      "..       ...       ...       ...       ...       ...       ...       ...   \n",
      "48  0.000000  0.261204 -1.000000  0.000000  0.000000  0.000000  0.414214   \n",
      "62  0.000000  0.000000  0.301511  0.000000  0.000000  0.000000  0.000000   \n",
      "82  0.000000  1.000000  0.000000  0.000000  0.000000  0.333333  0.000000   \n",
      "5   0.000000  0.333333  0.500000 -1.000000 -0.720577  0.000000  0.500000   \n",
      "23  0.000000  0.250000  0.000000  1.000000  0.045980 -0.408248 -1.000000   \n",
      "72  0.000000  0.000000  0.333333  0.333333  0.250000  0.000000  0.000000   \n",
      "59  1.000000  0.000000  0.000000  1.000000  0.000000  0.000000  0.000000   \n",
      "11  0.000000  0.000000  0.000000  0.000000  0.000000  0.000000  0.000000   \n",
      "15  0.000000  0.000000  0.000000  0.000000  0.000000  1.000000  0.000000   \n",
      "32  0.000000  0.000000  0.000000  0.000000  0.000000  0.500000  0.000000   \n",
      "33  0.000000  0.000000  0.000000  0.000000  0.000000  1.000000  0.000000   \n",
      "52  0.000000  0.000000  0.000000  0.000000  0.000000  0.000000  0.000000   \n",
      "17  0.000000  0.000000  0.000000  0.333333  0.200000  1.000000  0.333333   \n",
      "29  0.000000  0.000000  0.000000  0.000000  0.000000  1.000000  0.000000   \n",
      "30  0.000000  0.000000  0.000000  0.000000  0.000000  1.000000  0.000000   \n",
      "65  0.000000  0.000000  0.000000  0.500000  0.250000  0.000000  0.000000   \n",
      "78  0.000000  0.000000  1.000000  0.333333 -0.960769  1.000000  0.000000   \n",
      "39  0.000000  0.500000  0.000000  0.000000  0.000000  0.000000  0.000000   \n",
      "42  0.000000  0.000000  0.000000  0.000000  0.000000  0.000000  1.000000   \n",
      "47  0.500000  0.000000  0.000000  0.000000  0.000000  0.000000  0.500000   \n",
      "74  0.000000  0.000000  0.000000  0.500000  0.500000  0.000000  0.000000   \n",
      "35  1.000000  0.000000  0.000000  0.000000  0.000000  0.500000  0.000000   \n",
      "67  0.000000  0.000000  0.000000  0.000000  0.000000  0.000000  0.000000   \n",
      "95  0.000000  0.000000  0.000000  0.000000  0.000000  0.000000  0.000000   \n",
      "69  0.500000  0.000000  0.000000  0.500000  0.000000  0.000000  0.000000   \n",
      "40  0.000000  1.000000  0.000000  0.000000  0.000000  0.000000  0.500000   \n",
      "83  0.000000  0.000000  0.000000  0.000000  0.000000  0.000000  0.000000   \n",
      "20  0.000000  0.000000  0.000000  0.000000  0.000000  1.000000  0.000000   \n",
      "57  0.000000  0.000000  0.000000  0.000000  0.000000  0.000000  0.000000   \n",
      "63  0.000000  0.000000  0.000000  0.000000  0.000000  0.000000  0.000000   \n",
      "\n",
      "          80        93        1     ...           74        35        67   95  \\\n",
      "6   1.000000  0.200000  0.500000    ...     0.000000  1.000000  0.000000  0.0   \n",
      "10  0.000000  0.250000  1.000000    ...     0.000000  0.000000  0.000000  0.0   \n",
      "26  0.500000  0.333333  0.333333    ...     0.000000  0.000000  0.000000  0.0   \n",
      "38 -1.000000  0.333333  1.000000    ...     0.500000  0.000000  0.000000  0.0   \n",
      "45  0.500000  0.333333  0.000000    ...     0.500000  0.000000  0.000000  0.0   \n",
      "53  0.250000  1.000000  0.000000    ...     0.000000  0.500000  0.000000  0.0   \n",
      "75  0.000000  0.000000  0.000000    ...     0.000000  0.000000  0.000000  0.0   \n",
      "80  1.000000  0.000000  0.333333    ...     0.000000  0.000000  0.000000  0.0   \n",
      "93  0.000000  1.000000  0.000000    ...     0.000000  0.000000  0.000000  0.0   \n",
      "1   0.333333  0.000000  1.000000    ...     0.000000  0.000000  0.000000  0.0   \n",
      "8   0.500000  0.000000  0.500000    ...     0.500000  0.500000  0.500000  0.5   \n",
      "9   0.333333  0.000000  1.000000    ...     0.000000  0.000000  0.000000  0.0   \n",
      "18  0.500000  0.333333  0.500000    ...     0.250000  1.000000  0.000000  0.0   \n",
      "19  0.333333  0.333333  1.000000    ...     0.000000  1.000000  0.000000  0.5   \n",
      "28  1.000000  0.000000  0.333333    ...     0.000000  0.000000  0.000000  0.0   \n",
      "34  0.333333  0.000000  1.000000    ...     0.250000  0.000000  0.000000  0.0   \n",
      "36  0.333333  0.500000  1.000000    ...     0.250000  0.000000  0.000000  1.0   \n",
      "44  0.333333  0.000000  1.000000    ...     0.333333  0.000000  0.000000  0.0   \n",
      "49  0.333333  1.000000  1.000000    ...     0.000000  0.000000  0.000000  0.0   \n",
      "51  0.333333  0.000000  1.000000    ...     0.000000  0.000000  0.000000  0.0   \n",
      "56  0.000000  0.000000  1.000000    ...     0.000000  0.500000  0.000000  1.0   \n",
      "60  0.000000  1.000000  0.500000    ...     0.000000  0.000000  0.000000  0.0   \n",
      "68  0.000000  0.000000  0.333333    ...     0.000000  0.500000  0.000000  0.0   \n",
      "73  0.000000  0.000000  0.333333    ...     0.000000  0.000000  0.000000  0.0   \n",
      "76  0.000000  0.000000  1.000000    ...     0.000000  1.000000  0.000000  0.0   \n",
      "90  0.000000  0.000000  0.333333    ...     0.000000  0.000000  0.000000  0.0   \n",
      "92  0.000000  0.000000  0.500000    ...     0.000000  1.000000  0.000000  0.0   \n",
      "96  0.000000  0.000000  0.500000    ...     0.000000  1.000000  0.000000  0.0   \n",
      "99  0.000000  0.000000  0.333333    ...     0.000000  0.000000  0.000000  0.0   \n",
      "2   0.000000  0.000000  0.000000    ...     0.000000  0.000000  0.000000  0.0   \n",
      "..       ...       ...       ...    ...          ...       ...       ...  ...   \n",
      "48  0.333333  0.500000  0.000000    ...     0.500000  0.000000  0.000000  1.0   \n",
      "62  0.000000  0.000000  0.000000    ...     0.000000  0.500000  0.000000  0.0   \n",
      "82  0.000000  0.000000  0.000000    ...     0.000000  0.000000  0.000000  0.0   \n",
      "5   0.000000  0.000000  0.000000    ...    -1.000000  1.000000  0.333333  0.5   \n",
      "23  0.000000  0.000000  0.000000    ...     0.500000  0.000000  0.000000  0.0   \n",
      "72  0.000000  0.000000  0.000000    ...     0.000000  0.000000  0.000000  0.0   \n",
      "59  0.000000  0.000000  0.000000    ...     0.000000  0.500000  0.000000  0.0   \n",
      "11  0.000000  0.000000  0.000000    ...     0.333333  1.000000  0.333333  0.5   \n",
      "15  0.000000  0.000000  0.000000    ...     0.000000  0.000000  0.000000  0.0   \n",
      "32  0.000000  0.000000  0.000000    ...     0.000000  0.000000  0.000000  0.0   \n",
      "33  0.000000  0.000000  0.000000    ...     0.500000  0.000000  0.500000  1.0   \n",
      "52  0.000000  0.000000  0.000000    ...     0.000000  0.000000  0.000000  0.0   \n",
      "17  0.000000  0.000000  0.000000    ...     0.250000  0.000000  0.000000  0.0   \n",
      "29  0.000000  0.000000  0.000000    ...     0.000000  0.000000  0.000000  0.0   \n",
      "30  0.000000  0.000000  0.000000    ...     0.000000  0.000000  0.000000  0.0   \n",
      "65  0.000000  0.000000  0.000000    ...     0.000000  0.000000  0.000000  0.0   \n",
      "78  0.000000  0.000000  0.000000    ...     0.000000  0.000000  0.000000  0.0   \n",
      "39  0.000000  0.000000  0.000000    ...     0.000000  0.000000  0.000000  0.0   \n",
      "42  0.000000  1.000000  0.000000    ...     0.500000  0.000000  0.000000  0.5   \n",
      "47  0.000000  0.000000  0.000000    ...     0.333333  0.000000  0.000000  0.0   \n",
      "74  0.000000  0.000000  0.000000    ...     1.000000  0.333333  0.000000  0.0   \n",
      "35  0.000000  0.000000  0.000000    ...     0.333333  1.000000  0.333333  0.5   \n",
      "67  0.000000  0.000000  0.000000    ...     0.000000  0.333333  1.000000  0.0   \n",
      "95  0.000000  0.000000  0.000000    ...     0.000000  0.500000  0.000000  1.0   \n",
      "69  0.000000  0.000000  0.000000    ...     0.000000  0.500000  0.000000  0.0   \n",
      "40  0.000000  0.000000  0.000000    ...     0.000000  0.000000  0.000000  0.0   \n",
      "83  0.000000  0.000000  0.000000    ...     0.000000  0.000000  0.000000  0.0   \n",
      "20  0.000000  0.000000  0.000000    ...     0.000000  0.000000  0.000000  0.0   \n",
      "57  0.000000  0.000000  0.000000    ...     0.000000  0.000000  0.000000  0.0   \n",
      "63  0.000000  0.000000  0.000000    ...     0.000000  0.000000  0.000000  0.0   \n",
      "\n",
      "          69    40        83    20        57        63  \n",
      "6   0.500000  0.00  0.000000  0.00  0.000000  0.000000  \n",
      "10  0.000000  1.00  0.000000  0.00  0.000000  0.000000  \n",
      "26  0.000000  0.00  0.000000  0.00  0.000000  0.000000  \n",
      "38  0.500000  0.00  0.000000  0.00  0.000000  0.000000  \n",
      "45  0.000000  0.00  0.000000  0.00  0.000000  0.000000  \n",
      "53  0.000000  0.00  0.000000  1.00  0.000000  0.000000  \n",
      "75  0.000000  0.50  0.000000  0.00  0.000000  0.000000  \n",
      "80  0.000000  0.00  0.000000  0.00  0.000000  0.000000  \n",
      "93  0.000000  0.00  0.000000  0.00  0.000000  0.000000  \n",
      "1   0.000000  0.00  0.000000  0.00  0.000000  0.000000  \n",
      "8   0.414214  0.00  0.000000  0.00  0.000000  0.000000  \n",
      "9   0.000000  0.00  0.000000  0.00  0.000000  0.000000  \n",
      "18  0.500000  0.25  0.000000  0.00  0.000000  0.000000  \n",
      "19  0.500000  0.00  0.000000  0.00  0.000000  0.000000  \n",
      "28  0.333333  0.00  0.000000  0.00  0.000000  0.000000  \n",
      "34  1.000000  0.00  0.000000  0.00  0.000000  0.000000  \n",
      "36  0.000000  0.00  0.000000  0.00  0.000000  0.000000  \n",
      "44  0.000000  0.00  0.000000  0.00  0.000000  0.000000  \n",
      "49  0.000000  0.00  0.000000  0.00  0.000000  0.000000  \n",
      "51  0.000000  0.00  0.000000  0.00  0.000000  0.000000  \n",
      "56  0.000000  0.00  0.000000  0.00  0.000000  0.000000  \n",
      "60  0.000000  1.00  0.000000  0.00  0.000000  0.000000  \n",
      "68  0.000000  0.00  0.000000  0.00  0.000000  0.000000  \n",
      "73  0.000000  0.00  0.000000  0.50  0.000000  0.000000  \n",
      "76  0.000000  0.00  0.000000  0.00  0.000000  0.000000  \n",
      "90  0.000000  0.00  0.000000  0.00  0.000000  0.000000  \n",
      "92  0.000000  0.25  0.000000  0.25  0.333333  0.000000  \n",
      "96  0.000000  0.00  0.000000  0.00  0.000000  0.000000  \n",
      "99  0.000000  0.00  0.000000  0.00  0.000000  0.000000  \n",
      "2   0.000000  0.00  0.000000  0.00  0.000000  0.000000  \n",
      "..       ...   ...       ...   ...       ...       ...  \n",
      "48  0.000000  0.00  0.333333  0.00  0.000000  0.000000  \n",
      "62  0.000000  0.00  0.000000  0.00  0.000000  0.000000  \n",
      "82  0.000000  0.00  0.000000  0.00  0.000000  0.000000  \n",
      "5   0.000000  0.00  0.000000  0.00  0.000000  0.000000  \n",
      "23  0.000000  0.25  0.000000  0.00  0.500000  1.000000  \n",
      "72  0.000000  0.00  0.000000  0.00  0.000000  0.000000  \n",
      "59  0.000000  0.00  0.000000  0.00  0.000000  0.000000  \n",
      "11  0.000000  0.00  0.000000  0.00  0.000000  0.000000  \n",
      "15  0.000000  0.00  0.000000  0.00  0.500000  0.333333  \n",
      "32  0.000000  0.00  0.000000  0.00  0.000000  0.000000  \n",
      "33  0.000000  0.00  0.000000  0.00  0.000000  0.000000  \n",
      "52  0.000000  0.00  0.000000  1.00  0.000000  0.000000  \n",
      "17  0.000000  0.00  0.000000  0.00  0.000000  0.000000  \n",
      "29  0.000000  0.00  0.000000  0.00  0.000000  0.000000  \n",
      "30  0.000000  0.00  0.000000  0.00  0.000000  0.000000  \n",
      "65  0.000000  0.00  0.000000  0.00  0.000000  0.000000  \n",
      "78  0.000000  0.00  0.000000  0.00  0.000000  0.000000  \n",
      "39  0.000000  0.00  0.000000  0.00  0.000000  0.000000  \n",
      "42  0.000000  0.00  0.000000  0.00  0.000000  0.000000  \n",
      "47  1.000000  0.00  0.000000  0.00  0.000000  0.000000  \n",
      "74  0.000000  0.00  0.000000  0.00  0.000000  0.000000  \n",
      "35  0.500000  0.00  0.000000  0.00  0.000000  0.000000  \n",
      "67  0.000000  0.00  0.000000  0.00  0.000000  0.000000  \n",
      "95  0.000000  0.00  0.000000  0.00  0.000000  0.000000  \n",
      "69  1.000000  0.00  0.000000  0.00  0.000000  0.000000  \n",
      "40  0.000000  1.00  0.000000  0.00  0.000000  0.000000  \n",
      "83  0.000000  0.00  1.000000  0.00  0.000000  0.000000  \n",
      "20  0.000000  0.00  0.000000  1.00  0.500000  1.000000  \n",
      "57  0.000000  0.00  0.000000  0.50  1.000000  0.000000  \n",
      "63  0.000000  0.00  0.000000  1.00  0.000000  1.000000  \n",
      "\n",
      "[64 rows x 64 columns]\n"
     ]
    },
    {
     "data": {
      "text/plain": [
       "0.0"
      ]
     },
     "execution_count": 175,
     "metadata": {},
     "output_type": "execute_result"
    }
   ],
   "source": [
    "user_reco = UserRecomender(movielens_train)\n",
    "user_reco.precompute()\n",
    "user_reco.estimate(user_id=2, movie_id=1)"
   ]
  },
  {
   "cell_type": "code",
   "execution_count": 34,
   "metadata": {
    "collapsed": false
   },
   "outputs": [
    {
     "ename": "KeyError",
     "evalue": "87",
     "output_type": "error",
     "traceback": [
      "\u001b[1;31m---------------------------------------------------------------------------\u001b[0m",
      "\u001b[1;31mKeyError\u001b[0m                                  Traceback (most recent call last)",
      "\u001b[1;32m<ipython-input-34-3d21429e3f0e>\u001b[0m in \u001b[0;36m<module>\u001b[1;34m()\u001b[0m\n\u001b[1;32m----> 1\u001b[1;33m \u001b[0mevaluate\u001b[0m\u001b[1;33m(\u001b[0m\u001b[0muser_reco\u001b[0m\u001b[1;33m.\u001b[0m\u001b[0mestimate\u001b[0m\u001b[1;33m,\u001b[0m \u001b[0mmovielens_test\u001b[0m\u001b[1;33m)\u001b[0m\u001b[1;33m\u001b[0m\u001b[0m\n\u001b[0m",
      "\u001b[1;32m<ipython-input-3-fc7820afed7c>\u001b[0m in \u001b[0;36mevaluate\u001b[1;34m(estimate, test)\u001b[0m\n\u001b[0;32m      6\u001b[0m \u001b[1;32mdef\u001b[0m \u001b[0mevaluate\u001b[0m\u001b[1;33m(\u001b[0m\u001b[0mestimate\u001b[0m\u001b[1;33m,\u001b[0m\u001b[0mtest\u001b[0m\u001b[1;33m=\u001b[0m\u001b[0mmovielens_test\u001b[0m\u001b[1;33m)\u001b[0m\u001b[1;33m:\u001b[0m\u001b[1;33m\u001b[0m\u001b[0m\n\u001b[0;32m      7\u001b[0m     \u001b[0mids_to_estimate\u001b[0m \u001b[1;33m=\u001b[0m \u001b[0mzip\u001b[0m\u001b[1;33m(\u001b[0m\u001b[0mtest\u001b[0m\u001b[1;33m[\u001b[0m\u001b[1;34m'user_id'\u001b[0m\u001b[1;33m]\u001b[0m\u001b[1;33m,\u001b[0m \u001b[0mtest\u001b[0m\u001b[1;33m[\u001b[0m\u001b[1;34m'movie_id'\u001b[0m\u001b[1;33m]\u001b[0m\u001b[1;33m)\u001b[0m\u001b[1;33m\u001b[0m\u001b[0m\n\u001b[1;32m----> 8\u001b[1;33m     \u001b[0mestimated\u001b[0m \u001b[1;33m=\u001b[0m \u001b[0mnp\u001b[0m\u001b[1;33m.\u001b[0m\u001b[0marray\u001b[0m\u001b[1;33m(\u001b[0m\u001b[1;33m[\u001b[0m\u001b[0mestimate\u001b[0m\u001b[1;33m(\u001b[0m\u001b[0mu\u001b[0m\u001b[1;33m,\u001b[0m\u001b[0mi\u001b[0m\u001b[1;33m)\u001b[0m \u001b[1;32mfor\u001b[0m \u001b[1;33m(\u001b[0m\u001b[0mu\u001b[0m\u001b[1;33m,\u001b[0m\u001b[0mi\u001b[0m\u001b[1;33m)\u001b[0m \u001b[1;32min\u001b[0m \u001b[0mids_to_estimate\u001b[0m\u001b[1;33m]\u001b[0m\u001b[1;33m)\u001b[0m\u001b[1;33m\u001b[0m\u001b[0m\n\u001b[0m\u001b[0;32m      9\u001b[0m     \u001b[0mreal\u001b[0m \u001b[1;33m=\u001b[0m \u001b[0mtest\u001b[0m\u001b[1;33m.\u001b[0m\u001b[0mrating\u001b[0m\u001b[1;33m.\u001b[0m\u001b[0mvalues\u001b[0m\u001b[1;33m\u001b[0m\u001b[0m\n\u001b[0;32m     10\u001b[0m     \u001b[0mnans\u001b[0m \u001b[1;33m=\u001b[0m \u001b[0mnp\u001b[0m\u001b[1;33m.\u001b[0m\u001b[0misnan\u001b[0m\u001b[1;33m(\u001b[0m\u001b[0mestimated\u001b[0m\u001b[1;33m)\u001b[0m\u001b[1;33m\u001b[0m\u001b[0m\n",
      "\u001b[1;32m<ipython-input-32-8425fc9666c9>\u001b[0m in \u001b[0;36mestimate\u001b[1;34m(self, user_id, movie_id)\u001b[0m\n\u001b[0;32m     13\u001b[0m     \u001b[1;32mdef\u001b[0m \u001b[0mestimate\u001b[0m\u001b[1;33m(\u001b[0m\u001b[0mself\u001b[0m\u001b[1;33m,\u001b[0m \u001b[0muser_id\u001b[0m\u001b[1;33m,\u001b[0m \u001b[0mmovie_id\u001b[0m\u001b[1;33m)\u001b[0m\u001b[1;33m:\u001b[0m\u001b[1;33m\u001b[0m\u001b[0m\n\u001b[0;32m     14\u001b[0m         \u001b[1;34m\"\"\" Given an user_id and a movie_id returns the estimated rating for such movie \"\"\"\u001b[0m\u001b[1;33m\u001b[0m\u001b[0m\n\u001b[1;32m---> 15\u001b[1;33m         \u001b[1;32mreturn\u001b[0m \u001b[0msuper\u001b[0m\u001b[1;33m(\u001b[0m\u001b[0mUserRecomender\u001b[0m\u001b[1;33m,\u001b[0m \u001b[0mself\u001b[0m\u001b[1;33m)\u001b[0m\u001b[1;33m.\u001b[0m\u001b[0mestimate\u001b[0m\u001b[1;33m(\u001b[0m\u001b[0muser_id\u001b[0m\u001b[1;33m,\u001b[0m \u001b[0mmovie_id\u001b[0m\u001b[1;33m)\u001b[0m\u001b[1;33m\u001b[0m\u001b[0m\n\u001b[0m\u001b[0;32m     16\u001b[0m \u001b[1;33m\u001b[0m\u001b[0m\n",
      "\u001b[1;32m<ipython-input-31-bb8b09fa5f5d>\u001b[0m in \u001b[0;36mestimate\u001b[1;34m(self, row, col)\u001b[0m\n\u001b[0;32m     23\u001b[0m         \"\"\" Given an row (user_id in exercise 6, movie_id in 7) and a column (movie_id in exercise 6, user_id in 7) \n\u001b[0;32m     24\u001b[0m             returns the estimated rating \"\"\"\n\u001b[1;32m---> 25\u001b[1;33m         \u001b[1;32mreturn\u001b[0m \u001b[0mself\u001b[0m\u001b[1;33m.\u001b[0m\u001b[0msim\u001b[0m\u001b[1;33m[\u001b[0m\u001b[0mrow\u001b[0m\u001b[1;33m]\u001b[0m\u001b[1;33m[\u001b[0m\u001b[0mcol\u001b[0m\u001b[1;33m]\u001b[0m\u001b[1;33m\u001b[0m\u001b[0m\n\u001b[0m",
      "\u001b[1;32m/opt/anaconda/lib/python2.7/site-packages/pandas/core/frame.py\u001b[0m in \u001b[0;36m__getitem__\u001b[1;34m(self, key)\u001b[0m\n\u001b[0;32m   1995\u001b[0m             \u001b[1;32mreturn\u001b[0m \u001b[0mself\u001b[0m\u001b[1;33m.\u001b[0m\u001b[0m_getitem_multilevel\u001b[0m\u001b[1;33m(\u001b[0m\u001b[0mkey\u001b[0m\u001b[1;33m)\u001b[0m\u001b[1;33m\u001b[0m\u001b[0m\n\u001b[0;32m   1996\u001b[0m         \u001b[1;32melse\u001b[0m\u001b[1;33m:\u001b[0m\u001b[1;33m\u001b[0m\u001b[0m\n\u001b[1;32m-> 1997\u001b[1;33m             \u001b[1;32mreturn\u001b[0m \u001b[0mself\u001b[0m\u001b[1;33m.\u001b[0m\u001b[0m_getitem_column\u001b[0m\u001b[1;33m(\u001b[0m\u001b[0mkey\u001b[0m\u001b[1;33m)\u001b[0m\u001b[1;33m\u001b[0m\u001b[0m\n\u001b[0m\u001b[0;32m   1998\u001b[0m \u001b[1;33m\u001b[0m\u001b[0m\n\u001b[0;32m   1999\u001b[0m     \u001b[1;32mdef\u001b[0m \u001b[0m_getitem_column\u001b[0m\u001b[1;33m(\u001b[0m\u001b[0mself\u001b[0m\u001b[1;33m,\u001b[0m \u001b[0mkey\u001b[0m\u001b[1;33m)\u001b[0m\u001b[1;33m:\u001b[0m\u001b[1;33m\u001b[0m\u001b[0m\n",
      "\u001b[1;32m/opt/anaconda/lib/python2.7/site-packages/pandas/core/frame.py\u001b[0m in \u001b[0;36m_getitem_column\u001b[1;34m(self, key)\u001b[0m\n\u001b[0;32m   2002\u001b[0m         \u001b[1;31m# get column\u001b[0m\u001b[1;33m\u001b[0m\u001b[1;33m\u001b[0m\u001b[0m\n\u001b[0;32m   2003\u001b[0m         \u001b[1;32mif\u001b[0m \u001b[0mself\u001b[0m\u001b[1;33m.\u001b[0m\u001b[0mcolumns\u001b[0m\u001b[1;33m.\u001b[0m\u001b[0mis_unique\u001b[0m\u001b[1;33m:\u001b[0m\u001b[1;33m\u001b[0m\u001b[0m\n\u001b[1;32m-> 2004\u001b[1;33m             \u001b[1;32mreturn\u001b[0m \u001b[0mself\u001b[0m\u001b[1;33m.\u001b[0m\u001b[0m_get_item_cache\u001b[0m\u001b[1;33m(\u001b[0m\u001b[0mkey\u001b[0m\u001b[1;33m)\u001b[0m\u001b[1;33m\u001b[0m\u001b[0m\n\u001b[0m\u001b[0;32m   2005\u001b[0m \u001b[1;33m\u001b[0m\u001b[0m\n\u001b[0;32m   2006\u001b[0m         \u001b[1;31m# duplicate columns & possible reduce dimensionality\u001b[0m\u001b[1;33m\u001b[0m\u001b[1;33m\u001b[0m\u001b[0m\n",
      "\u001b[1;32m/opt/anaconda/lib/python2.7/site-packages/pandas/core/generic.py\u001b[0m in \u001b[0;36m_get_item_cache\u001b[1;34m(self, item)\u001b[0m\n\u001b[0;32m   1348\u001b[0m         \u001b[0mres\u001b[0m \u001b[1;33m=\u001b[0m \u001b[0mcache\u001b[0m\u001b[1;33m.\u001b[0m\u001b[0mget\u001b[0m\u001b[1;33m(\u001b[0m\u001b[0mitem\u001b[0m\u001b[1;33m)\u001b[0m\u001b[1;33m\u001b[0m\u001b[0m\n\u001b[0;32m   1349\u001b[0m         \u001b[1;32mif\u001b[0m \u001b[0mres\u001b[0m \u001b[1;32mis\u001b[0m \u001b[0mNone\u001b[0m\u001b[1;33m:\u001b[0m\u001b[1;33m\u001b[0m\u001b[0m\n\u001b[1;32m-> 1350\u001b[1;33m             \u001b[0mvalues\u001b[0m \u001b[1;33m=\u001b[0m \u001b[0mself\u001b[0m\u001b[1;33m.\u001b[0m\u001b[0m_data\u001b[0m\u001b[1;33m.\u001b[0m\u001b[0mget\u001b[0m\u001b[1;33m(\u001b[0m\u001b[0mitem\u001b[0m\u001b[1;33m)\u001b[0m\u001b[1;33m\u001b[0m\u001b[0m\n\u001b[0m\u001b[0;32m   1351\u001b[0m             \u001b[0mres\u001b[0m \u001b[1;33m=\u001b[0m \u001b[0mself\u001b[0m\u001b[1;33m.\u001b[0m\u001b[0m_box_item_values\u001b[0m\u001b[1;33m(\u001b[0m\u001b[0mitem\u001b[0m\u001b[1;33m,\u001b[0m \u001b[0mvalues\u001b[0m\u001b[1;33m)\u001b[0m\u001b[1;33m\u001b[0m\u001b[0m\n\u001b[0;32m   1352\u001b[0m             \u001b[0mcache\u001b[0m\u001b[1;33m[\u001b[0m\u001b[0mitem\u001b[0m\u001b[1;33m]\u001b[0m \u001b[1;33m=\u001b[0m \u001b[0mres\u001b[0m\u001b[1;33m\u001b[0m\u001b[0m\n",
      "\u001b[1;32m/opt/anaconda/lib/python2.7/site-packages/pandas/core/internals.py\u001b[0m in \u001b[0;36mget\u001b[1;34m(self, item, fastpath)\u001b[0m\n\u001b[0;32m   3288\u001b[0m \u001b[1;33m\u001b[0m\u001b[0m\n\u001b[0;32m   3289\u001b[0m             \u001b[1;32mif\u001b[0m \u001b[1;32mnot\u001b[0m \u001b[0misnull\u001b[0m\u001b[1;33m(\u001b[0m\u001b[0mitem\u001b[0m\u001b[1;33m)\u001b[0m\u001b[1;33m:\u001b[0m\u001b[1;33m\u001b[0m\u001b[0m\n\u001b[1;32m-> 3290\u001b[1;33m                 \u001b[0mloc\u001b[0m \u001b[1;33m=\u001b[0m \u001b[0mself\u001b[0m\u001b[1;33m.\u001b[0m\u001b[0mitems\u001b[0m\u001b[1;33m.\u001b[0m\u001b[0mget_loc\u001b[0m\u001b[1;33m(\u001b[0m\u001b[0mitem\u001b[0m\u001b[1;33m)\u001b[0m\u001b[1;33m\u001b[0m\u001b[0m\n\u001b[0m\u001b[0;32m   3291\u001b[0m             \u001b[1;32melse\u001b[0m\u001b[1;33m:\u001b[0m\u001b[1;33m\u001b[0m\u001b[0m\n\u001b[0;32m   3292\u001b[0m                 \u001b[0mindexer\u001b[0m \u001b[1;33m=\u001b[0m \u001b[0mnp\u001b[0m\u001b[1;33m.\u001b[0m\u001b[0marange\u001b[0m\u001b[1;33m(\u001b[0m\u001b[0mlen\u001b[0m\u001b[1;33m(\u001b[0m\u001b[0mself\u001b[0m\u001b[1;33m.\u001b[0m\u001b[0mitems\u001b[0m\u001b[1;33m)\u001b[0m\u001b[1;33m)\u001b[0m\u001b[1;33m[\u001b[0m\u001b[0misnull\u001b[0m\u001b[1;33m(\u001b[0m\u001b[0mself\u001b[0m\u001b[1;33m.\u001b[0m\u001b[0mitems\u001b[0m\u001b[1;33m)\u001b[0m\u001b[1;33m]\u001b[0m\u001b[1;33m\u001b[0m\u001b[0m\n",
      "\u001b[1;32m/opt/anaconda/lib/python2.7/site-packages/pandas/indexes/base.py\u001b[0m in \u001b[0;36mget_loc\u001b[1;34m(self, key, method, tolerance)\u001b[0m\n\u001b[0;32m   1945\u001b[0m                 \u001b[1;32mreturn\u001b[0m \u001b[0mself\u001b[0m\u001b[1;33m.\u001b[0m\u001b[0m_engine\u001b[0m\u001b[1;33m.\u001b[0m\u001b[0mget_loc\u001b[0m\u001b[1;33m(\u001b[0m\u001b[0mkey\u001b[0m\u001b[1;33m)\u001b[0m\u001b[1;33m\u001b[0m\u001b[0m\n\u001b[0;32m   1946\u001b[0m             \u001b[1;32mexcept\u001b[0m \u001b[0mKeyError\u001b[0m\u001b[1;33m:\u001b[0m\u001b[1;33m\u001b[0m\u001b[0m\n\u001b[1;32m-> 1947\u001b[1;33m                 \u001b[1;32mreturn\u001b[0m \u001b[0mself\u001b[0m\u001b[1;33m.\u001b[0m\u001b[0m_engine\u001b[0m\u001b[1;33m.\u001b[0m\u001b[0mget_loc\u001b[0m\u001b[1;33m(\u001b[0m\u001b[0mself\u001b[0m\u001b[1;33m.\u001b[0m\u001b[0m_maybe_cast_indexer\u001b[0m\u001b[1;33m(\u001b[0m\u001b[0mkey\u001b[0m\u001b[1;33m)\u001b[0m\u001b[1;33m)\u001b[0m\u001b[1;33m\u001b[0m\u001b[0m\n\u001b[0m\u001b[0;32m   1948\u001b[0m \u001b[1;33m\u001b[0m\u001b[0m\n\u001b[0;32m   1949\u001b[0m         \u001b[0mindexer\u001b[0m \u001b[1;33m=\u001b[0m \u001b[0mself\u001b[0m\u001b[1;33m.\u001b[0m\u001b[0mget_indexer\u001b[0m\u001b[1;33m(\u001b[0m\u001b[1;33m[\u001b[0m\u001b[0mkey\u001b[0m\u001b[1;33m]\u001b[0m\u001b[1;33m,\u001b[0m \u001b[0mmethod\u001b[0m\u001b[1;33m=\u001b[0m\u001b[0mmethod\u001b[0m\u001b[1;33m,\u001b[0m \u001b[0mtolerance\u001b[0m\u001b[1;33m=\u001b[0m\u001b[0mtolerance\u001b[0m\u001b[1;33m)\u001b[0m\u001b[1;33m\u001b[0m\u001b[0m\n",
      "\u001b[1;32mpandas/index.pyx\u001b[0m in \u001b[0;36mpandas.index.IndexEngine.get_loc (pandas/index.c:4154)\u001b[1;34m()\u001b[0m\n",
      "\u001b[1;32mpandas/index.pyx\u001b[0m in \u001b[0;36mpandas.index.IndexEngine.get_loc (pandas/index.c:4018)\u001b[1;34m()\u001b[0m\n",
      "\u001b[1;32mpandas/hashtable.pyx\u001b[0m in \u001b[0;36mpandas.hashtable.Int64HashTable.get_item (pandas/hashtable.c:6610)\u001b[1;34m()\u001b[0m\n",
      "\u001b[1;32mpandas/hashtable.pyx\u001b[0m in \u001b[0;36mpandas.hashtable.Int64HashTable.get_item (pandas/hashtable.c:6554)\u001b[1;34m()\u001b[0m\n",
      "\u001b[1;31mKeyError\u001b[0m: 87"
     ]
    }
   ],
   "source": [
    "evaluate(user_reco.estimate, movielens_test)"
   ]
  },
  {
   "cell_type": "markdown",
   "metadata": {},
   "source": [
    "### EXERCICI 7\n",
    "\n",
    "+ Desenvolupa un sistema de recomanació col·laboratiu basat en ítems. Si la classe `CollaborativeFiltering` s'ha fet prou genèrica, tan sols caldrà fer petites modificacions a `__init__`, del contrari, podeu fer les modificacions que cregueu necessàries."
   ]
  },
  {
   "cell_type": "code",
   "execution_count": null,
   "metadata": {
    "collapsed": false
   },
   "outputs": [],
   "source": [
    "class ItemRecomender(CollaborativeFiltering):\n",
    "    \"\"\" Recomender using Collaborative filtering with a Item similarity (i,i'). \"\"\"\n",
    "    \n",
    "    def __init__(self,data_train, similarity=sim_pearson):\n",
    "        \"\"\" Constructor \"\"\"\n",
    "        \n",
    "        # You should do any transformation to data_train (grouping/pivot/...) here, if needed\n",
    "        transformed_data = data_train\n",
    "        \n",
    "        super(ItemRecomender, self).__init__(transformed_data, data_train.movie_id.unique(), similarity)\n",
    "\n",
    "            \n",
    "    def estimate(self, user_id, movie_id):\n",
    "        \"\"\" Given an user_id and a movie_id returns the estimated rating for such movie \"\"\"\n",
    "        return super(ItemRecomender, self).estimate(movie_id, user_id)\n",
    "        "
   ]
  },
  {
   "cell_type": "code",
   "execution_count": null,
   "metadata": {
    "collapsed": false
   },
   "outputs": [],
   "source": [
    "item_reco = ItemRecomender(movielens_train)\n",
    "item_reco.precompute()\n",
    "item_reco.estimate(user_id=2, movie_id=1)"
   ]
  },
  {
   "cell_type": "code",
   "execution_count": null,
   "metadata": {
    "collapsed": false
   },
   "outputs": [],
   "source": [
    "evaluate(item_reco.estimate, movielens_test)"
   ]
  },
  {
   "cell_type": "markdown",
   "metadata": {},
   "source": [
    "### EXERCICI 8\n",
    "\n",
    "* Feu un nou mètode `get_recomendations(user_id, n)` que retorni les n pel·lícules recomenades per a l'usuari user_id. De nou, és recomenable fer-ho a la clase pare, `CollaborativeFiltering`, cridant-la des dels fills de forma semblant a com fa `estimate`.\n",
    "\n",
    "* Executeu la funció en els dos recomenadors "
   ]
  },
  {
   "cell_type": "code",
   "execution_count": null,
   "metadata": {
    "collapsed": false
   },
   "outputs": [],
   "source": [
    "user_reco.get_recomendations(1, 5)"
   ]
  },
  {
   "cell_type": "code",
   "execution_count": null,
   "metadata": {
    "collapsed": false
   },
   "outputs": [],
   "source": [
    "item_reco.get_recomendations(1, 5)"
   ]
  },
  {
   "cell_type": "code",
   "execution_count": null,
   "metadata": {
    "collapsed": true
   },
   "outputs": [],
   "source": []
  }
 ],
 "metadata": {
  "anaconda-cloud": {},
  "kernelspec": {
   "display_name": "Python [Root]",
   "language": "python",
   "name": "Python [Root]"
  },
  "language_info": {
   "codemirror_mode": {
    "name": "ipython",
    "version": 2
   },
   "file_extension": ".py",
   "mimetype": "text/x-python",
   "name": "python",
   "nbconvert_exporter": "python",
   "pygments_lexer": "ipython2",
   "version": "2.7.12"
  }
 },
 "nbformat": 4,
 "nbformat_minor": 0
}
